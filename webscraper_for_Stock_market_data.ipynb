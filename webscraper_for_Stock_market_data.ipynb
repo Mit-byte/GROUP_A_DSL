{
 "cells": [
  {
   "cell_type": "code",
   "execution_count": 1,
   "metadata": {},
   "outputs": [],
   "source": [
    "import pandas as pd\n",
    "import requests\n",
    "from datetime import datetime\n",
    "from bs4 import BeautifulSoup\n",
    "import time\n",
    "import re"
   ]
  },
  {
   "cell_type": "code",
   "execution_count": 30,
   "metadata": {},
   "outputs": [],
   "source": [
    "def get_live_data(symbol, interval = 3):\n",
    "    link = 'https://finance.yahoo.com/quote/{}/'.format(symbol)\n",
    "    output = []\n",
    "    try:\n",
    "        start = datetime.now().strftime('%Y-%m-%d %H:%M:%S')\n",
    "        print('Live stocks for: ',symbol)\n",
    "        print('%20s %20s %10s %10s %10s'%('Date','Current value','Change','% Change','Market Status'))\n",
    "        while True:\n",
    "            r = requests.get(link)\n",
    "            if r.status_code != 200:\n",
    "                print('Symbol is not correct !!!')\n",
    "                return\n",
    "            soup = BeautifulSoup(r.text,'lxml')\n",
    "            data = soup.find('div',{'class':'My(6px) Pos(r) smartphone_Mt(6px)'})\n",
    "            current = data.get_text(separator='\\n').split('\\n')\n",
    "            split = re.findall('[-+]?\\d*\\.\\d+|\\d+',current[1])\n",
    "            rec = []\n",
    "            rec.append(datetime.now().strftime('%Y-%m-%d %H:%M:%S'))\n",
    "            rec.append(float(current[0].replace(',','')))\n",
    "            rec.append(float(split[0].replace(',','')))\n",
    "            rec.append(float(split[1].replace(',','')))\n",
    "            if 'open' in current[2]:\n",
    "                rec.append('open')\n",
    "            else:\n",
    "                rec.append('close')\n",
    "            output.append(rec)\n",
    "            print('%20s %20.3f %10.3f %10.3f %10s'%(rec[0],rec[1],rec[2],rec[3],rec[4]))\n",
    "            time.sleep(interval)\n",
    "    except KeyboardInterrupt:\n",
    "        end = datetime.now().strftime('%Y-%m-%d %H:%M:%S')\n",
    "        df = pd.DataFrame(data=output, columns=['Date','Current value','Change','% Change','Market Status'])\n",
    "        df.to_csv('Data.csv')\n",
    "        print('Data Saved')"
   ]
  },
  {
   "cell_type": "code",
   "execution_count": 31,
   "metadata": {},
   "outputs": [
    {
     "name": "stdout",
     "output_type": "stream",
     "text": [
      "Live stocks for:  GOOGL\n",
      "                Date        Current value     Change   % Change Market Status\n",
      " 2020-11-04 21:09:19             1749.990    104.330      6.340       open\n",
      " 2020-11-04 21:09:26             1749.990    104.330      6.340       open\n",
      " 2020-11-04 21:09:33             1749.930    104.270      6.340       open\n",
      "Data Saved\n"
     ]
    }
   ],
   "source": [
    "get_live_data('GOOGL',5)"
   ]
  },
  {
   "cell_type": "code",
   "execution_count": null,
   "metadata": {},
   "outputs": [],
   "source": []
  }
 ],
 "metadata": {
  "kernelspec": {
   "display_name": "Python 3",
   "language": "python",
   "name": "python3"
  },
  "language_info": {
   "codemirror_mode": {
    "name": "ipython",
    "version": 3
   },
   "file_extension": ".py",
   "mimetype": "text/x-python",
   "name": "python",
   "nbconvert_exporter": "python",
   "pygments_lexer": "ipython3",
   "version": "3.7.6"
  }
 },
 "nbformat": 4,
 "nbformat_minor": 4
}
